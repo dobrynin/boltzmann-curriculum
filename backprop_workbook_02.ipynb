{
 "cells": [
  {
   "cell_type": "markdown",
   "metadata": {},
   "source": [
    "## Backprop Workbook 02\n",
    "\n",
    "**For these questions, assume that an $x$ input has 1024 dimensions, that the first hidden layer should have $512$ units, a second layer has $256$ units, and that there are $10$ classes to choose from at the end.**"
   ]
  },
  {
   "cell_type": "markdown",
   "metadata": {},
   "source": [
    "**Cell to run for Latex commands**\n",
    "\n",
    "\\\\[\n",
    "\\newcommand{\\fpartial}[2]{\\frac{\\partial #1}{\\partial #2}}\n",
    "\\newcommand{\\grad}[1]{\\nabla #1}\n",
    "\\newcommand{\\softmax}[0]{\\text{SOFTMAX}}\n",
    "\\\\]"
   ]
  },
  {
   "cell_type": "markdown",
   "metadata": {},
   "source": [
    "## Backprop Further Through Gradient Chains"
   ]
  },
  {
   "cell_type": "markdown",
   "metadata": {},
   "source": [
    "We've now calculated gradients for the final layer's weights and biases. We now want to calculate the corresponding gradients for $\\grad_{W^{(2)}} CE(h^{(3)}, y)$ and $\\grad_{b^{(2)}} CE(h^{(3)}, y)$.\n",
    "\n",
    "How do changes to these weights and biases effect the loss?\n",
    "\n",
    "1. Changes to $W^{(2)}$ and $b^{(2)}$ change the $z^{(2)}$ values.\n",
    "2. Changes to the $z^{(2)}$ values change the $h^{(2)}$ values.\n",
    "3. Changes to the $h^{(2)}$ values change the $z^{(3)}$ values.\n",
    "4. And we already know how changes to $z^{(3)}$ values change the loss.\n",
    "\n",
    "In this section we will work our way backward: 3, 2, 1. Blast off!"
   ]
  },
  {
   "cell_type": "markdown",
   "metadata": {},
   "source": [
    "**1. Write $\\grad_{b^{(2)}} CE(h^{(3)}, y)$ as a chain of four gradients. Take inspiration from the above plan.**"
   ]
  },
  {
   "cell_type": "markdown",
   "metadata": {},
   "source": [
    "\\\\[\n",
    "\\grad_{b^{(2)}} CE(h^{(3)}, y)\n",
    "=\n",
    "\\left(\n",
    "    \\grad_{b^{(2)}} z^{(2)}\n",
    "\\right)\n",
    "\\left(\n",
    "    \\grad_{z^{(2)}} h^{(2)}\n",
    "\\right)\n",
    "\\left(\n",
    "    \\grad_{h^{(2)}} z^{(3)}\n",
    "\\right)\n",
    "\\left(\n",
    "    \\grad_{z^{(3)}} CE(h^{(3)}, y)\n",
    "\\right)\n",
    "\\\\]"
   ]
  },
  {
   "cell_type": "markdown",
   "metadata": {},
   "source": [
    "## Gradient Shapes"
   ]
  },
  {
   "cell_type": "markdown",
   "metadata": {},
   "source": [
    "**1. Gradients like $\\grad_{z^{(3)}} CE(h^{(3)}, y)$ are familiar because there are many inputs, but only one output. What is the length of this vector? Why?**"
   ]
  },
  {
   "cell_type": "markdown",
   "metadata": {},
   "source": [
    "It is length ten because there are ten $z^{(3)}$ values and thus ten partial derivatives."
   ]
  },
  {
   "cell_type": "markdown",
   "metadata": {},
   "source": [
    "**Note:** A gradient like $\\grad_{h^{(2)}} z^{(3)}$ feels weird because there are many inputs *and* many outputs. We know it must collect terms like $\\fpartial{z^{(3)}_j}{h^{(2)}_i}$, but what is the shape of that matrix? How do we organize the terms?\n",
    "\n",
    "Let's go back to simple gradients. Let's say I have a function $f(x)$ that takes in a vector $x$ and outputs a scalar value. I want to be able to write:\n",
    "\n",
    "\\\\[\n",
    "\\left(\\Delta x\\right) \\left(\\grad_x f(x)\\right)\n",
    "=\n",
    "\\Delta y\n",
    "\\\\]\n",
    "\n",
    "Here I want to do the matrix multiply of $\\Delta x$ with $\\grad_x f(x)$.\n"
   ]
  },
  {
   "cell_type": "markdown",
   "metadata": {},
   "source": [
    "**2. Given our convention that a vector like $h^{(2)}$ should be interpreted as a row-vector with shape $(1, 256)$, what do we want the shape of $\\grad_{h^{(2)}} z^{(3)}_j$ to be so that the matrix product:**\n",
    "\n",
    "\\\\[\n",
    "\\left(\\Delta h^{(2)}\\right)\n",
    "\\left(\\grad_{h^{(2)}} z^{(3)}_j\\right)\n",
    "=\n",
    "\\Delta z^{(3)}_j\n",
    "\\\\]\n",
    "\n",
    "**works out?**"
   ]
  },
  {
   "cell_type": "markdown",
   "metadata": {},
   "source": [
    "The shape should be $(256, 1)$."
   ]
  },
  {
   "cell_type": "markdown",
   "metadata": {},
   "source": [
    "**3. Let's generalize to $\\grad_{h^{(2)}} z^{(3)}$. I still want:**\n",
    "\n",
    "\\\\[\n",
    "\\left(\\Delta h^{(2)}\\right)\n",
    "\\left(\\grad_{h^{(2)}} z^{(3)}\\right)\n",
    "=\n",
    "\\Delta z^{(3)}\n",
    "\\\\]\n",
    "\n",
    "**What is the desired shape? Give me a formula for $\\left(\\grad_{h^{(2)}} z^{(3)}\\right)_{i, j}$.**"
   ]
  },
  {
   "cell_type": "markdown",
   "metadata": {},
   "source": [
    "We want the gradient to have 256 rows and 10 columns.\n",
    "\n",
    "We want\n",
    "\n",
    "\\\\[\n",
    "\\left(\\grad_{h^{(2)}} z^{(3)}\\right)_{i, j}\n",
    "=\n",
    "\\fpartial{z^{(3)}_j}{h^{(2)}_i}\n",
    "\\\\]"
   ]
  },
  {
   "cell_type": "markdown",
   "metadata": {},
   "source": [
    "## Calculating $\\grad_{h^{(2)}} z^{(3)}$"
   ]
  },
  {
   "cell_type": "markdown",
   "metadata": {},
   "source": [
    "**1. In our plan we know the last gradient $\\grad_{z^{(3)}} CE(h^{(3)}, y)$, so let's work backward and start with $\\grad_{h^{(2)}} z^{(3)}$. Let's focus on just a single partial: $\\fpartial{}{h^{(2)}_i} z^{(3)}_j$. Use the formula for $z^{(3)}_j$ to calculate this.**"
   ]
  },
  {
   "cell_type": "markdown",
   "metadata": {},
   "source": [
    "\\\\[\n",
    "\\fpartial{}{h^{(2)}_i} z^{(3)}_j\n",
    "=\n",
    "\\fpartial{}{h^{(2)}_i} \\left(\n",
    "    \\sum_{k = 0}^{512} h^{(2)}_k W^{(3)}_{k, j}\n",
    "\\right) + b^{(3)}_j\n",
    "=\n",
    "W^{(3)}_{i, j}\n",
    "\\\\]"
   ]
  },
  {
   "cell_type": "markdown",
   "metadata": {},
   "source": [
    "**2. Why does does $W^{(3)}_{i, j}$ feel like the right anwer?**"
   ]
  },
  {
   "cell_type": "markdown",
   "metadata": {},
   "source": [
    "Because it is the weight that connects $h^{(2)}_i$ to $z^{(3)}_j$. Any change in $h^{(2)}_i$ will be \"magnified\" by $W^{(3)}_{i, j}$."
   ]
  },
  {
   "cell_type": "markdown",
   "metadata": {},
   "source": [
    "**3. Using this result, and our definition above for $\\left(\\grad_{h^{(2)}} z^{(3)}\\right)_{i, j}$, give an equation for $\\grad_{h^{(2)}} z^{(3)}$.**\n"
   ]
  },
  {
   "cell_type": "markdown",
   "metadata": {},
   "source": [
    "\\\\[\n",
    "\\grad_{h^{(2)}} z^{(3)}\n",
    "=\n",
    "W^{(3)}\n",
    "\\\\]"
   ]
  },
  {
   "cell_type": "markdown",
   "metadata": {},
   "source": [
    "**4. Great. Let's break this down to understand better. Give a formula for $\\grad_{h^{(2)}} z^{(3)}_j$ in terms of $W^{(3)}$. What is the shape of this? Why does this formula make sense?**"
   ]
  },
  {
   "cell_type": "markdown",
   "metadata": {},
   "source": [
    "\\\\[\n",
    "\\grad_{h^{(2)}} z^{(3)}_j = W^{(3)}_{:, j}\n",
    "\\\\]\n",
    "\n",
    "This is a vector of length $256$. It makes sense because all 256 units of $h^{(2)}$ are connected to the $z^{(3)}_j$ value. This column consists of exactly the weights used to calculate $z^{(3)}_j$ and scale the values in $h^{(2)}$."
   ]
  },
  {
   "cell_type": "markdown",
   "metadata": {},
   "source": [
    "**5. Using the above formula, consider a change $\\Delta h^{(2)}$ to the 256 dimensions of $h^{(2)}$. Use the gradient for $z^{(3)}_j$ to calculate the change in $z^{(3)}$. Break it down to the summation level even. Do this both in terms of partials $\\fpartial{z^{(3)}_j}{h^{(2)}_i}$ and $W^{(3)}$. Give an explanation for the formulas.**"
   ]
  },
  {
   "cell_type": "markdown",
   "metadata": {},
   "source": [
    "\\\\[\n",
    "\\begin{align}\n",
    "    \\Delta z^{(3)}_j\n",
    "    &=\n",
    "    \\left(\n",
    "        \\Delta h^{(2)}\n",
    "    \\right)\n",
    "    \\left(\n",
    "        \\grad_{h^{(2)}} z^{(3)}_j\n",
    "    \\right)\n",
    "    =\n",
    "    \\sum_{i = 0}^{256}\n",
    "    \\Delta h^{(2)}_i \\fpartial{z^{(3)}_j}{h^{(2)}_i}\n",
    "\\\\\n",
    "    &=\n",
    "    \\left(\n",
    "        \\Delta h^{(2)}\n",
    "    \\right)\n",
    "    \\left(\n",
    "        W^{(2)}_{:, j}\n",
    "    \\right)\n",
    "    =\n",
    "    \\sum_{i = 0}^{256}\n",
    "    \\Delta h^{(2)}_i W^{(3)}_{i, j}\n",
    "\\end{align}\n",
    "\\\\]\n",
    "\n",
    "Basically each change to $h^{(2)}$ has its own impact on the $z^{(3)}_j$ value. We need to evaluate those impacts and sum them up."
   ]
  },
  {
   "cell_type": "markdown",
   "metadata": {},
   "source": [
    "**6. Give a formula for $\\grad_{h^{(2)}_i} z^{(3)}$ in terms of $W^{(3)}$. What is the shape of this? Why does this formula make sense?**"
   ]
  },
  {
   "cell_type": "markdown",
   "metadata": {},
   "source": [
    "\\\\[\n",
    "\\grad_{h^{(2)}_i} z^{(3)} = W^{(3)}_{i, :}\n",
    "\\\\]\n",
    "\n",
    "\n",
    "This is a vector of length $10$. It makes sense because the unit $h^{(2)}_i$ is connected to all $10$ units of $z^{(3)}$."
   ]
  },
  {
   "cell_type": "markdown",
   "metadata": {},
   "source": [
    "**7. Using the above formula, consider a scalar change $\\Delta h^{(2)}_i$. Calculate the change in $z^{(3)}$. Do this both in terms of partials $\\fpartial{z^{(3)}_j}{h^{(2)}_i}$ and $W^{(3)}$. Give an explanation for the formulas.**"
   ]
  },
  {
   "cell_type": "markdown",
   "metadata": {},
   "source": [
    "\\\\[\n",
    "\\begin{align}\n",
    "    \\Delta z^{(3)}\n",
    "    &=\n",
    "    \\Delta h^{(2)}_i \\grad_{h^{(2)}_i} z^{(3)}\n",
    "    =\n",
    "    \\left(\n",
    "        \\Delta h^{(2)}_i\n",
    "        \\fpartial{z^{(3)}_0}{h^{(2)}_i}\n",
    "        ,\n",
    "        \\Delta h^{(2)}_i\n",
    "        \\fpartial{z^{(3)}_1}{h^{(2)}_i}\n",
    "        ,\n",
    "        \\ldots\n",
    "        ,\n",
    "        \\Delta h^{(2)}_i\n",
    "        \\fpartial{z^{(3)}_255}{h^{(2)}_i}\n",
    "    \\right)\n",
    "\\\\\n",
    "    &=\n",
    "    \\Delta h^{(2)}_i W^{(3)}_{i, :}\n",
    "    =\n",
    "    \\left(\n",
    "        \\Delta h^{(2)}_i\n",
    "        W^{(3)}_{i, 0}\n",
    "        ,\n",
    "        \\Delta h^{(2)}_i\n",
    "        W^{(3)}_{i, 1}\n",
    "        ,\n",
    "        \\ldots\n",
    "        ,\n",
    "        \\Delta h^{(2)}_i\n",
    "        W^{(3)}_{i, 255}\n",
    "    \\right)\n",
    "\\end{align}\n",
    "\\\\]"
   ]
  },
  {
   "cell_type": "markdown",
   "metadata": {},
   "source": [
    "**8. The chain rule says:**\n",
    "\n",
    "\\\\[\n",
    "\\grad_{h^{(2)}} CE(h^{(3)}, y)\n",
    "=\n",
    "\\left(\n",
    "    \\grad_{h^{(2)}} z^{(3)}\n",
    "\\right)\n",
    "\\left(\n",
    "    \\grad_{z^{(3)}} CE(h^{(3)}, y)\n",
    "\\right)\n",
    "\\\\]\n",
    "\n",
    "**Tell me the shapes of the terms in the product. Tell me about the final shape.**"
   ]
  },
  {
   "cell_type": "markdown",
   "metadata": {},
   "source": [
    "The shapes are $(256, 10)$ and $(10,1)$. The product is a vector $(256, 1)$."
   ]
  },
  {
   "cell_type": "markdown",
   "metadata": {},
   "source": [
    "**9. Why does it make sense that the final shape of the gradient is $(256, 1)$?**\n"
   ]
  },
  {
   "cell_type": "markdown",
   "metadata": {},
   "source": [
    "There are $256$ units in layer two, but we're assessing their impact on a single scalar value: the loss."
   ]
  },
  {
   "cell_type": "markdown",
   "metadata": {},
   "source": [
    "**7. To calculate the matrix product, we take the dot product of rows of $\\grad_{h^{(2)}} z^{(3)}$ with $\\grad_{z^{(3)}} CE(h^{(3)}, y)$. This dot product is $\\grad_{h^{(2)}} CE(h^{(3)}, y)_i$.**\n",
    "\n",
    "**Write a formula with a summation for this for row $i$.**"
   ]
  },
  {
   "cell_type": "markdown",
   "metadata": {},
   "source": [
    "\\\\[\n",
    "\\grad_{h^{(2)}} CE(h^{(3)}, y)_i\n",
    "=\n",
    "\\left(\n",
    "    \\grad_{h^{(2)}} z^{(3)}\n",
    "\\right)_{i, :}\n",
    "\\left(\n",
    "    \\grad_{z^{(3)}} CE(h^{(3)}, y)\n",
    "\\right)\n",
    "=\n",
    "\\sum_{j = 0}^{10}\n",
    "\\left(\n",
    "    \\fpartial{z^{(3)}_j}{h^{(2)}_i}\n",
    "\\right)\n",
    "\\left(\n",
    "    \\fpartial{CE(h^{(3)}, y)}{z^{(3)}_j}\n",
    "\\right)\n",
    "\\\\]"
   ]
  },
  {
   "cell_type": "markdown",
   "metadata": {},
   "source": [
    "**8. Give me a story in words for this formula.**\n",
    "\n",
    "A change in $h^{(2)}_i$ affects all of $z^{(3)}_j$ values via the weights in row $W_{i, :}$. And a change in a $z^{(3)}_j$ value causes a change in $CE(h^{(3)}, y)$.\n",
    "\n",
    "The amount of change for $CE(h^{(3)}, y)$ \"via\" the value $z^{(3)}_j$ is equal to the product of the two partial derivatives.\n",
    "\n",
    "The total change in cross-entropy comes from summing up over all the \"routes\" via which $h^{(2)}_i$ can impact the cross-entropy."
   ]
  },
  {
   "cell_type": "code",
   "execution_count": null,
   "metadata": {
    "collapsed": true
   },
   "outputs": [],
   "source": []
  }
 ],
 "metadata": {
  "kernelspec": {
   "display_name": "Python (default)",
   "language": "python",
   "name": "conda-default"
  },
  "language_info": {
   "codemirror_mode": {
    "name": "ipython",
    "version": 3
   },
   "file_extension": ".py",
   "mimetype": "text/x-python",
   "name": "python",
   "nbconvert_exporter": "python",
   "pygments_lexer": "ipython3",
   "version": "3.6.0"
  }
 },
 "nbformat": 4,
 "nbformat_minor": 2
}
