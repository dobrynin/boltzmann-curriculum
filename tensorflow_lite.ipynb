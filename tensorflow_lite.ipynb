{
 "cells": [
  {
   "cell_type": "code",
   "execution_count": 51,
   "metadata": {},
   "outputs": [],
   "source": [
    "class Session:\n",
    "    session = None\n",
    "    def __init__(self):\n",
    "        self.all_tensors = []\n",
    "        \n",
    "    def add_tensor(self, tensor):\n",
    "        self.all_tensors.append(tensor)\n",
    "        \n",
    "    def clear(self):\n",
    "        for tensor in self.all_tensors:\n",
    "            tensor.clear()\n",
    "            \n",
    "    def gradients(self):\n",
    "        tensors_to_gradients = {}\n",
    "        for tensor in self.all_tensors:\n",
    "            if not isinstance(tensor, Variable):\n",
    "                continue\n",
    "            tensors_to_gradients[tensor] = np.sum(tensor.CE_gradient(), 0)\n",
    "        return tensors_to_gradients\n",
    "    \n",
    "    def learn(self, learning_rate):\n",
    "        for (tensor, gradient) in self.gradients().items():\n",
    "            tensor.set_value(tensor.value() - gradient * learning_rate)\n",
    "            \n",
    "    def reset(self):\n",
    "        self.all_tensors = []\n",
    "    \n",
    "    \n",
    "    @classmethod\n",
    "    def get(clazz):\n",
    "        if clazz.session is None:\n",
    "            clazz.session = Session()\n",
    "        return clazz.session"
   ]
  },
  {
   "cell_type": "code",
   "execution_count": 52,
   "metadata": {},
   "outputs": [],
   "source": [
    "import numpy as np\n",
    "\n",
    "class SigmoidTensor:\n",
    "    def __init__(self, input_tensor):\n",
    "        self.input_tensor = input_tensor\n",
    "        self.subsequent_tensors = []\n",
    "        input_tensor.subsequent_tensors.append(self)\n",
    "        self._value = None\n",
    "        self._CE_gradient = None\n",
    "        Session.get().add_tensor(self)\n",
    "    \n",
    "    def value(self):\n",
    "        if self._value is None:\n",
    "            self._value = 1 / (1 + np.exp(-self.input_tensor.value()))\n",
    "        return self._value\n",
    "    \n",
    "    def CE_gradient(self, input_tensor):\n",
    "        if self._CE_gradient is not None: return self._CE_gradient\n",
    "        if input_tensor != self.input_tensor:\n",
    "            raise 'Unknown input tensor'\n",
    "        if len(self.subsequent_tensors) != 1:\n",
    "            raise 'Incorrect number of subsequent tensors'\n",
    "        self._CE_gradient = self.value() * (1 - self.value()) * self.subsequent_tensors[0].CE_gradient(self)\n",
    "        return self._CE_gradient\n",
    "    \n",
    "    def clear(self):\n",
    "        self._value = None\n",
    "        self._CE_gradient = None"
   ]
  },
  {
   "cell_type": "code",
   "execution_count": 53,
   "metadata": {},
   "outputs": [],
   "source": [
    "import pdb\n",
    "\n",
    "class AddTensor:\n",
    "    def __init__(self, input_tensor1, input_tensor2):\n",
    "        self.input_tensor1 = input_tensor1\n",
    "        self.input_tensor2 = input_tensor2\n",
    "        self.subsequent_tensors = []\n",
    "        input_tensor1.subsequent_tensors.append(self)\n",
    "        input_tensor2.subsequent_tensors.append(self)\n",
    "        self._value = None\n",
    "        self._CE_gradient = None\n",
    "        Session.get().add_tensor(self)\n",
    "    \n",
    "    def value(self):\n",
    "        if self._value is None:\n",
    "            self._value = self.input_tensor1.value() + self.input_tensor2.value()\n",
    "        return self._value\n",
    "    \n",
    "    def CE_gradient(self, input_tensor):\n",
    "        if input_tensor not in [self.input_tensor1, self.input_tensor2]:\n",
    "            raise 'Unknown input tensor'\n",
    "        if len(self.subsequent_tensors) != 1:\n",
    "            raise 'Incorrect number of subsequent tensors'\n",
    "        if self._CE_gradient is not None: return self._CE_gradient\n",
    "        self._CE_gradient = self.subsequent_tensors[0].CE_gradient(self)\n",
    "        return self._CE_gradient\n",
    "    \n",
    "    def clear(self):\n",
    "        self._value = None\n",
    "        self._CE_gradient = None"
   ]
  },
  {
   "cell_type": "code",
   "execution_count": 54,
   "metadata": {},
   "outputs": [],
   "source": [
    "class Placeholder:\n",
    "    def __init__(self):\n",
    "        self.subsequent_tensors = []\n",
    "        self._value = None\n",
    "        Session.get().add_tensor(self)\n",
    "    \n",
    "    def set_value(self, value):\n",
    "        self._value = value\n",
    "        \n",
    "    def value(self):\n",
    "        return self._value\n",
    "    \n",
    "    def clear(self):\n",
    "        pass"
   ]
  },
  {
   "cell_type": "code",
   "execution_count": 55,
   "metadata": {},
   "outputs": [],
   "source": [
    "p1 = Placeholder()\n",
    "p2 = Placeholder()\n",
    "result = SigmoidTensor(AddTensor(p1, p2))"
   ]
  },
  {
   "cell_type": "code",
   "execution_count": 56,
   "metadata": {},
   "outputs": [],
   "source": [
    "p1.set_value(np.array([0,-5,5]))\n",
    "p2.set_value(np.array([0,5,8]))"
   ]
  },
  {
   "cell_type": "code",
   "execution_count": 57,
   "metadata": {},
   "outputs": [
    {
     "data": {
      "text/plain": [
       "array([0.5       , 0.5       , 0.99999774])"
      ]
     },
     "execution_count": 57,
     "metadata": {},
     "output_type": "execute_result"
    }
   ],
   "source": [
    "result.value()"
   ]
  },
  {
   "cell_type": "code",
   "execution_count": 58,
   "metadata": {},
   "outputs": [],
   "source": [
    "# TODO: Ned and David fix a tensor\n",
    "\n",
    "class MatrixMultiplyTensor:\n",
    "    def __init__(self, input_tensor1, input_tensor2):\n",
    "        self.input_tensor1 = input_tensor1\n",
    "        self.input_tensor2 = input_tensor2\n",
    "        self.subsequent_tensors = []\n",
    "        input_tensor1.subsequent_tensors.append(self)\n",
    "        input_tensor2.subsequent_tensors.append(self)\n",
    "        self._value = None\n",
    "        self._CE_gradient1 = None\n",
    "        self._CE_gradient2 = None\n",
    "        Session.get().add_tensor(self)\n",
    "    \n",
    "    def value(self):\n",
    "        if self._value is None:\n",
    "            self._value = np.matmul(self.input_tensor1.value(), self.input_tensor2.value())\n",
    "        return self._value\n",
    "    \n",
    "    def CE_gradient1(self):\n",
    "        if self._CE_gradient1 is not None: return self._CE_gradient1\n",
    "        if len(self.subsequent_tensors) != 1:\n",
    "            raise 'Incorrect number of subsequent tensors'\n",
    "        input_tensor2_transpose = self.input_tensor2.value().T\n",
    "        self._CE_gradient1 = np.matmul(self.subsequent_tensors[0].CE_gradient(self), input_tensor2_transpose)\n",
    "        return self._CE_gradient1\n",
    "\n",
    "    def CE_gradient2(self):\n",
    "        if self._CE_gradient2 is not None: return self._CE_gradient2\n",
    "        if len(self.subsequent_tensors) != 1:\n",
    "            raise 'Incorrect number of subsequent tensors'\n",
    "        input_tensor_resized = np.expand_dims(self.input_tensor1.value(), 2)\n",
    "        subsequent_tensor_resized = np.expand_dims(self.subsequent_tensors[0].CE_gradient(self), 1)\n",
    "        self._CE_gradient2 = input_tensor_resized * subsequent_tensor_resized\n",
    "        return self._CE_gradient2\n",
    "    \n",
    "    def CE_gradient(self, input_tensor):\n",
    "        if input_tensor is self.input_tensor1: return self.CE_gradient1()\n",
    "        if input_tensor is self.input_tensor2: return self.CE_gradient2()\n",
    "        raise 'Unknown input tensor'\n",
    "        \n",
    "    def clear(self):\n",
    "        self._value = None\n",
    "        self._CE_gradient1 = None\n",
    "        self._CE_gradient2 = None"
   ]
  },
  {
   "cell_type": "code",
   "execution_count": 59,
   "metadata": {},
   "outputs": [],
   "source": [
    "class Variable:\n",
    "    def __init__(self, initial_value):\n",
    "        self.subsequent_tensors = []\n",
    "        self._value = initial_value\n",
    "        Session.get().add_tensor(self)\n",
    "    \n",
    "    def set_value(self, value):\n",
    "        self._value = value\n",
    "        \n",
    "    def value(self):\n",
    "        return self._value\n",
    "    \n",
    "    def CE_gradient(self):\n",
    "        if len(self.subsequent_tensors) != 1:\n",
    "            raise 'Incorrect number of subseqeuent tensors'\n",
    "        return self.subsequent_tensors[0].CE_gradient(self)\n",
    "    \n",
    "    def clear(self):\n",
    "        pass"
   ]
  },
  {
   "cell_type": "code",
   "execution_count": 60,
   "metadata": {},
   "outputs": [],
   "source": [
    "def softmax(logits):\n",
    "    # TODO: Not numerically stable therefore useless.\n",
    "    return np.exp(logits) / np.sum(np.exp(logits), axis=1)\n",
    "\n",
    "def log_softmax(logits):\n",
    "    return logits - np.log(np.sum(np.exp(logits), axis=1))\n",
    "\n",
    "def softmax(logits):\n",
    "    return np.exp(log_softmax(logits))\n",
    "\n",
    "class SoftmaxCELoss:\n",
    "    def __init__(self, input_tensor, y):\n",
    "        self.input_tensor = input_tensor\n",
    "        self.y = y\n",
    "        self._value = None\n",
    "        self._CE_gradient = None\n",
    "        input_tensor.subsequent_tensors.append(self)\n",
    "        Session.get().add_tensor(self)\n",
    "        \n",
    "    def value(self):\n",
    "        if self._value is None:\n",
    "            self._value = -np.sum(\n",
    "                log_softmax(self.input_tensor.value()) * self.y.value(),\n",
    "                axis=1\n",
    "            )\n",
    "        return self._value\n",
    "    \n",
    "    def CE_gradient(self, input_tensor):\n",
    "        if input_tensor != self.input_tensor:\n",
    "            raise 'unknown input tensor'\n",
    "        if self._CE_gradient is None:\n",
    "            self._CE_gradient = softmax(self.input_tensor.value()) - self.y.value()\n",
    "        return self._CE_gradient\n",
    "    \n",
    "    def clear(self):\n",
    "        self._value = None\n",
    "        self._CE_gradient = None"
   ]
  },
  {
   "cell_type": "code",
   "execution_count": 61,
   "metadata": {},
   "outputs": [],
   "source": [
    "from keras.datasets import mnist\n",
    "from keras.utils import to_categorical\n",
    "\n",
    "(x_train, y_train), (x_test, y_test) = mnist.load_data()\n",
    "\n",
    "x_train = np.reshape(x_train, (-1, 28*28)) / 255\n",
    "\n",
    "x_test = np.reshape(x_test, (-1, 28*28)) / 255\n",
    "\n",
    "y_train = to_categorical(y_train)\n",
    "y_test = to_categorical(y_test)\n"
   ]
  },
  {
   "cell_type": "code",
   "execution_count": 62,
   "metadata": {},
   "outputs": [
    {
     "data": {
      "text/plain": [
       "(60000, 784)"
      ]
     },
     "execution_count": 62,
     "metadata": {},
     "output_type": "execute_result"
    }
   ],
   "source": [
    "x_train.shape"
   ]
  },
  {
   "cell_type": "code",
   "execution_count": 78,
   "metadata": {},
   "outputs": [],
   "source": [
    "Session.get().reset()\n",
    "W1 = Variable(np.random.normal(size=(784, 392)) / np.sqrt(784))\n",
    "b1 = Variable(np.zeros((392,)))\n",
    "x = Placeholder()\n",
    "y = Placeholder()\n",
    "z1a = MatrixMultiplyTensor(x, W1)\n",
    "z1b = AddTensor(z1a, b1)\n",
    "h1 = SigmoidTensor(z1b)\n",
    "W2 = Variable(np.random.normal(size=(392, 10)) / np.sqrt(392))\n",
    "b2 = Variable(np.zeros((10,)))\n",
    "z2a = MatrixMultiplyTensor(h1, W2)\n",
    "z2b = AddTensor(z2a, b2)\n",
    "ce = SoftmaxCELoss(z2b, y)"
   ]
  },
  {
   "cell_type": "code",
   "execution_count": 79,
   "metadata": {},
   "outputs": [],
   "source": [
    "def train(learning_rate):\n",
    "    ce_value = 0\n",
    "    for index, (x_value, y_value) in enumerate(zip(x_train, y_train)):\n",
    "        Session.get().clear()\n",
    "        x_value = np.expand_dims(x_value,0)\n",
    "        y_value = np.expand_dims(y_value,0)\n",
    "        x.set_value(x_value)\n",
    "        y.set_value(y_value)\n",
    "        Session.get().learn(learning_rate/x_train.shape[0])\n",
    "        ce_value += np.sum(ce.value())\n",
    "    return ce_value/x_train.shape[0]"
   ]
  },
  {
   "cell_type": "code",
   "execution_count": 80,
   "metadata": {},
   "outputs": [],
   "source": [
    "def get_accuracy():\n",
    "    correctCount = 0\n",
    "    for (x_value, y_value) in zip(x_train, y_train):\n",
    "        Session.get().clear()\n",
    "        x.set_value(x_value)\n",
    "        y.set_value(y_value)\n",
    "        if (np.argmax(z1b.value()) == np.argmax(y_value)):\n",
    "            correctCount += 1\n",
    "    return correctCount/x_train.shape[0]"
   ]
  },
  {
   "cell_type": "code",
   "execution_count": 81,
   "metadata": {},
   "outputs": [
    {
     "ename": "KeyboardInterrupt",
     "evalue": "",
     "output_type": "error",
     "traceback": [
      "\u001b[0;31m---------------------------------------------------------------------------\u001b[0m",
      "\u001b[0;31mKeyboardInterrupt\u001b[0m                         Traceback (most recent call last)",
      "\u001b[0;32m<ipython-input-81-81849ac6ea80>\u001b[0m in \u001b[0;36m<module>\u001b[0;34m()\u001b[0m\n\u001b[1;32m      1\u001b[0m \u001b[0;32mfor\u001b[0m \u001b[0m_\u001b[0m \u001b[0;32min\u001b[0m \u001b[0mrange\u001b[0m\u001b[0;34m(\u001b[0m\u001b[0;36m100\u001b[0m\u001b[0;34m)\u001b[0m\u001b[0;34m:\u001b[0m\u001b[0;34m\u001b[0m\u001b[0m\n\u001b[0;32m----> 2\u001b[0;31m     \u001b[0mprint\u001b[0m\u001b[0;34m(\u001b[0m\u001b[0mtrain\u001b[0m\u001b[0;34m(\u001b[0m\u001b[0;36m0.1\u001b[0m\u001b[0;34m)\u001b[0m\u001b[0;34m)\u001b[0m\u001b[0;34m\u001b[0m\u001b[0m\n\u001b[0m\u001b[1;32m      3\u001b[0m     \u001b[0mprint\u001b[0m\u001b[0;34m(\u001b[0m\u001b[0mget_accuracy\u001b[0m\u001b[0;34m(\u001b[0m\u001b[0;34m)\u001b[0m\u001b[0;34m)\u001b[0m\u001b[0;34m\u001b[0m\u001b[0m\n",
      "\u001b[0;32m<ipython-input-79-fc3bebdef461>\u001b[0m in \u001b[0;36mtrain\u001b[0;34m(learning_rate)\u001b[0m\n\u001b[1;32m      7\u001b[0m         \u001b[0mx\u001b[0m\u001b[0;34m.\u001b[0m\u001b[0mset_value\u001b[0m\u001b[0;34m(\u001b[0m\u001b[0mx_value\u001b[0m\u001b[0;34m)\u001b[0m\u001b[0;34m\u001b[0m\u001b[0m\n\u001b[1;32m      8\u001b[0m         \u001b[0my\u001b[0m\u001b[0;34m.\u001b[0m\u001b[0mset_value\u001b[0m\u001b[0;34m(\u001b[0m\u001b[0my_value\u001b[0m\u001b[0;34m)\u001b[0m\u001b[0;34m\u001b[0m\u001b[0m\n\u001b[0;32m----> 9\u001b[0;31m         \u001b[0mSession\u001b[0m\u001b[0;34m.\u001b[0m\u001b[0mget\u001b[0m\u001b[0;34m(\u001b[0m\u001b[0;34m)\u001b[0m\u001b[0;34m.\u001b[0m\u001b[0mlearn\u001b[0m\u001b[0;34m(\u001b[0m\u001b[0mlearning_rate\u001b[0m\u001b[0;34m/\u001b[0m\u001b[0mx_train\u001b[0m\u001b[0;34m.\u001b[0m\u001b[0mshape\u001b[0m\u001b[0;34m[\u001b[0m\u001b[0;36m0\u001b[0m\u001b[0;34m]\u001b[0m\u001b[0;34m)\u001b[0m\u001b[0;34m\u001b[0m\u001b[0m\n\u001b[0m\u001b[1;32m     10\u001b[0m         \u001b[0mce_value\u001b[0m \u001b[0;34m+=\u001b[0m \u001b[0mnp\u001b[0m\u001b[0;34m.\u001b[0m\u001b[0msum\u001b[0m\u001b[0;34m(\u001b[0m\u001b[0mce\u001b[0m\u001b[0;34m.\u001b[0m\u001b[0mvalue\u001b[0m\u001b[0;34m(\u001b[0m\u001b[0;34m)\u001b[0m\u001b[0;34m)\u001b[0m\u001b[0;34m\u001b[0m\u001b[0m\n\u001b[1;32m     11\u001b[0m     \u001b[0;32mreturn\u001b[0m \u001b[0mce_value\u001b[0m\u001b[0;34m/\u001b[0m\u001b[0mx_train\u001b[0m\u001b[0;34m.\u001b[0m\u001b[0mshape\u001b[0m\u001b[0;34m[\u001b[0m\u001b[0;36m0\u001b[0m\u001b[0;34m]\u001b[0m\u001b[0;34m\u001b[0m\u001b[0m\n",
      "\u001b[0;32m<ipython-input-51-3f372f8b7b3c>\u001b[0m in \u001b[0;36mlearn\u001b[0;34m(self, learning_rate)\u001b[0m\n\u001b[1;32m     21\u001b[0m     \u001b[0;32mdef\u001b[0m \u001b[0mlearn\u001b[0m\u001b[0;34m(\u001b[0m\u001b[0mself\u001b[0m\u001b[0;34m,\u001b[0m \u001b[0mlearning_rate\u001b[0m\u001b[0;34m)\u001b[0m\u001b[0;34m:\u001b[0m\u001b[0;34m\u001b[0m\u001b[0m\n\u001b[1;32m     22\u001b[0m         \u001b[0;32mfor\u001b[0m \u001b[0;34m(\u001b[0m\u001b[0mtensor\u001b[0m\u001b[0;34m,\u001b[0m \u001b[0mgradient\u001b[0m\u001b[0;34m)\u001b[0m \u001b[0;32min\u001b[0m \u001b[0mself\u001b[0m\u001b[0;34m.\u001b[0m\u001b[0mgradients\u001b[0m\u001b[0;34m(\u001b[0m\u001b[0;34m)\u001b[0m\u001b[0;34m.\u001b[0m\u001b[0mitems\u001b[0m\u001b[0;34m(\u001b[0m\u001b[0;34m)\u001b[0m\u001b[0;34m:\u001b[0m\u001b[0;34m\u001b[0m\u001b[0m\n\u001b[0;32m---> 23\u001b[0;31m             \u001b[0mtensor\u001b[0m\u001b[0;34m.\u001b[0m\u001b[0mset_value\u001b[0m\u001b[0;34m(\u001b[0m\u001b[0mtensor\u001b[0m\u001b[0;34m.\u001b[0m\u001b[0mvalue\u001b[0m\u001b[0;34m(\u001b[0m\u001b[0;34m)\u001b[0m \u001b[0;34m-\u001b[0m \u001b[0mgradient\u001b[0m \u001b[0;34m*\u001b[0m \u001b[0mlearning_rate\u001b[0m\u001b[0;34m)\u001b[0m\u001b[0;34m\u001b[0m\u001b[0m\n\u001b[0m\u001b[1;32m     24\u001b[0m \u001b[0;34m\u001b[0m\u001b[0m\n\u001b[1;32m     25\u001b[0m     \u001b[0;32mdef\u001b[0m \u001b[0mreset\u001b[0m\u001b[0;34m(\u001b[0m\u001b[0mself\u001b[0m\u001b[0;34m)\u001b[0m\u001b[0;34m:\u001b[0m\u001b[0;34m\u001b[0m\u001b[0m\n",
      "\u001b[0;31mKeyboardInterrupt\u001b[0m: "
     ]
    }
   ],
   "source": [
    "for _ in range(100):\n",
    "    print(train(0.1))\n",
    "    print(get_accuracy())"
   ]
  },
  {
   "cell_type": "code",
   "execution_count": null,
   "metadata": {},
   "outputs": [],
   "source": []
  },
  {
   "cell_type": "code",
   "execution_count": null,
   "metadata": {},
   "outputs": [],
   "source": []
  },
  {
   "cell_type": "code",
   "execution_count": null,
   "metadata": {},
   "outputs": [],
   "source": []
  }
 ],
 "metadata": {
  "kernelspec": {
   "display_name": "Python 3",
   "language": "python",
   "name": "python3"
  },
  "language_info": {
   "codemirror_mode": {
    "name": "ipython",
    "version": 3
   },
   "file_extension": ".py",
   "mimetype": "text/x-python",
   "name": "python",
   "nbconvert_exporter": "python",
   "pygments_lexer": "ipython3",
   "version": "3.6.4"
  }
 },
 "nbformat": 4,
 "nbformat_minor": 2
}
